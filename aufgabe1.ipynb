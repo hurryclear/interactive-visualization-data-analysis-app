{
 "cells": [
  {
   "cell_type": "markdown",
   "id": "355173b7-34a0-4467-a2df-823a54fcfe37",
   "metadata": {},
   "source": [
    "Visualization Tool: dash.plotly"
   ]
  },
  {
   "cell_type": "markdown",
   "id": "9dcd19a1-9169-40f3-ab74-d95c07f1955c",
   "metadata": {},
   "source": [
    "# Aufgabe 1a)\n",
    "Lesen Sie den Datensatz „Aufgabe-1.csv“ ein und untersuchen Sie den Zweck der Daten sowie die\n",
    "Datenqualität. Identifizieren Sie mögliche Probleme in den Daten und beheben Sie die Fehler, falls\n",
    "möglich. Dokumentieren Sie Ihr Vorgehen.  "
   ]
  },
  {
   "cell_type": "code",
   "execution_count": 2,
   "id": "4aa417a2-33e9-4d41-a9a5-abac266ce581",
   "metadata": {},
   "outputs": [],
   "source": [
    "import pandas as pd"
   ]
  },
  {
   "cell_type": "code",
   "execution_count": 8,
   "id": "03fd5ab0-1437-4826-a281-9a278f551f01",
   "metadata": {},
   "outputs": [],
   "source": [
    "#df = pd.read_csv('aufgabe1_ori.csv')"
   ]
  },
  {
   "cell_type": "markdown",
   "id": "ad3f66bb-fe92-47f4-b721-6643f50732c9",
   "metadata": {},
   "source": [
    "## Clean data"
   ]
  },
  {
   "cell_type": "markdown",
   "id": "be713222-39ed-4611-a7d0-a179b119aba2",
   "metadata": {},
   "source": [
    "![find error](1.png) "
   ]
  },
  {
   "cell_type": "markdown",
   "id": "8da264f2-d1f4-4e68-b910-9929677ab762",
   "metadata": {},
   "source": [
    "1. If you just read the data file with `df = pd.read_csv('aufgabe1.csv')` you will get error **\"ParserError\"**, since the data is somehow not \"clean\", which we need to deal with.\n",
    "Concrete error: **ParserError: Error tokenizing data. C error: Expected 89 fields in line 3, saw 90**  \n",
    "There should be 89 columns but some rows have 90, that's because in third 6th column \"Positions Played\" there are some players played more than one positions and in the data set use comma for &, e.g. 'CF,ST', but when it was read, this will cause confusion, because comma is to separate column.\n",
    "What we can do is that replace , which is within '' with ;. We can use regex to identify this case, e.g. 'A,B', so we want 'A;B'"
   ]
  },
  {
   "cell_type": "code",
   "execution_count": 3,
   "id": "b05807eb-b145-4440-8d47-51e548f241f6",
   "metadata": {},
   "outputs": [],
   "source": [
    "import re # regex\n",
    "import pandas as pd\n",
    "\n",
    "# Specify input and output file paths\n",
    "input_file = 'aufgabe1_ori.csv'\n",
    "output_file = 'aufgabe1_clean.csv'\n",
    "\n",
    "# Read the CSV file line by line and replace commas within single quotes\n",
    "lines = []\n",
    "with open(input_file, 'r') as file:\n",
    "    for line in file:\n",
    "        # Use regex to find commas within single quotes and replace them with a semicolon\n",
    "        modified_line = re.sub(r\"'(.*?)'\", lambda x: x.group(0).replace(',', ';'), line)\n",
    "        lines.append(modified_line)\n",
    "\n",
    "# Write the modified lines to a new CSV file\n",
    "with open(output_file, 'w') as file:\n",
    "    file.writelines(lines)\n",
    "\n",
    "# Now read the cleaned data with pandas\n",
    "# df = pd.read_csv(output_file)"
   ]
  },
  {
   "cell_type": "markdown",
   "id": "b5c2b7a0-a755-499f-9b9e-f87697a9be89",
   "metadata": {},
   "source": [
    "2. Again Error --> ParserError: Error tokenizing data. C error: Expected 89 fields in line 12922, saw 90\n",
    "![find error](2.png)\n",
    "The reason is that the expression in german way: 1100000,00€. The comma here will also be translated to the separation of column. Because this is the sole case, so I'd like to change this manuelly in .csv file, e.g. 1100000,00€ --> 1100000. **Change it in aufgabe1_ori.csv!!!**"
   ]
  },
  {
   "cell_type": "code",
   "execution_count": 4,
   "id": "355acf45-0fb7-4940-80cf-4ab4c59a58f0",
   "metadata": {},
   "outputs": [
    {
     "name": "stderr",
     "output_type": "stream",
     "text": [
      "/var/folders/y1/1tjj64zd37sdph6807cm97nh0000gn/T/ipykernel_14013/2173704591.py:2: DtypeWarning: Columns (4) have mixed types. Specify dtype option on import or set low_memory=False.\n",
      "  df = pd.read_csv(output_file)\n"
     ]
    }
   ],
   "source": [
    "# Now read the cleaned data with pandas\n",
    "df = pd.read_csv(output_file)"
   ]
  },
  {
   "cell_type": "markdown",
   "id": "985da688-ac92-462e-b869-74ce78f1f5cc",
   "metadata": {},
   "source": [
    "3. DtypeWarning: Columns (4) have mixed types"
   ]
  },
  {
   "cell_type": "code",
   "execution_count": 5,
   "id": "e6ba2cd6-e22a-43ed-be26-b192fb19ae81",
   "metadata": {},
   "outputs": [
    {
     "name": "stdout",
     "output_type": "stream",
     "text": [
      "'Known As'          object\n",
      "'Full Name'         object\n",
      "'Overall'            int64\n",
      "'Potential'          int64\n",
      "'Value(in Euro)'    object\n",
      "                     ...  \n",
      "'RWB Rating'         int64\n",
      "'LB Rating'          int64\n",
      "'CB Rating'          int64\n",
      "'RB Rating'          int64\n",
      "'GK Rating'          int64\n",
      "Length: 89, dtype: object\n"
     ]
    }
   ],
   "source": [
    "# get data types of all columns\n",
    "print(df.dtypes)"
   ]
  },
  {
   "cell_type": "code",
   "execution_count": null,
   "id": "65561a17-7215-416e-8583-a0d390ba8e30",
   "metadata": {},
   "outputs": [],
   "source": [
    "print(df.columns)"
   ]
  },
  {
   "cell_type": "code",
   "execution_count": null,
   "id": "19236cd3-56b2-4a0a-8c78-a68e73a636fe",
   "metadata": {},
   "outputs": [],
   "source": [
    "# Check data types in column 4\n",
    "unique_types = df['Potential'].map(type).value_counts()\n",
    "print(unique_types)"
   ]
  },
  {
   "cell_type": "markdown",
   "id": "75ce0df5-e3dc-450d-a78c-7536dee4b6ab",
   "metadata": {},
   "source": [
    "## Zweck der Daten"
   ]
  },
  {
   "cell_type": "code",
   "execution_count": null,
   "id": "9751b568-6693-4f78-83b8-8d8c29246a8e",
   "metadata": {},
   "outputs": [],
   "source": [
    "print(df.head())"
   ]
  },
  {
   "cell_type": "code",
   "execution_count": null,
   "id": "4a807099-67e1-46e7-a554-17464b575538",
   "metadata": {},
   "outputs": [],
   "source": [
    "print(df.tail())"
   ]
  },
  {
   "cell_type": "code",
   "execution_count": null,
   "id": "80ec6b0d-add1-4203-9050-c593845798a1",
   "metadata": {},
   "outputs": [],
   "source": [
    "print(df.info())"
   ]
  },
  {
   "cell_type": "code",
   "execution_count": null,
   "id": "fc7768ab-50e4-4f90-ac24-9922930ca797",
   "metadata": {},
   "outputs": [],
   "source": [
    "print(df.describe())"
   ]
  },
  {
   "cell_type": "markdown",
   "id": "a5d3b020-9ff9-4dbe-97bd-43696fe29279",
   "metadata": {},
   "source": [
    "This data set shows: (to be complete...)\n",
    "- Information over soccer player, including basic personal information, analysis of skills, values etc.\n",
    "- "
   ]
  },
  {
   "cell_type": "markdown",
   "id": "1aa7bbe3-80b4-4445-a592-ab9eabe5029f",
   "metadata": {},
   "source": [
    "# Aufgabe 1b)-1d)\n",
    "b) Visualisieren Sie die Daten aus a) mittels einer interaktiven Applikation in Python, indem Sie die Verteilungen darstellen:  \n",
    "- Verteilung der Items ???\n",
    "- Gegenüberstellung der Attribute Age und Wage (in Euro)\n",
    "- Gegenüberstellung der Attribute Age und Overall  \n",
    "\n",
    "\n",
    "c) Bauen Sie bei allen Darstellungen Interaktionsmöglichkeiten zum Filtern der Daten ein. Sollten die Daten Ausreißer haben, passen Sie Ihre Visualisierung dahingehend an. Bauen Sie zudem Filtermöglichkeiten zum Filtern nach den Attribute Nationality und Club ein.  \n",
    "d) Erstellen Sie eine Darstellung zum Vergleich von Datenpunkten, bsp. Zeile 5 mit Zeile 35 des Datensatz. Die zuvergleichenden Datenpunkte sollen interaktiv wählbar sein. "
   ]
  },
  {
   "cell_type": "markdown",
   "id": "42ffcbc9",
   "metadata": {},
   "source": [
    "## \"Excel\" App"
   ]
  },
  {
   "cell_type": "code",
   "execution_count": 3,
   "id": "dae68735-3f7f-425e-8821-af1ba5b793e9",
   "metadata": {},
   "outputs": [
    {
     "name": "stderr",
     "output_type": "stream",
     "text": [
      "/var/folders/y1/1tjj64zd37sdph6807cm97nh0000gn/T/ipykernel_55892/658104838.py:5: DtypeWarning: Columns (4) have mixed types. Specify dtype option on import or set low_memory=False.\n",
      "  df = pd.read_csv('aufgabe1_clean.csv')\n"
     ]
    },
    {
     "data": {
      "text/html": [
       "\n",
       "        <iframe\n",
       "            width=\"100%\"\n",
       "            height=\"650\"\n",
       "            src=\"http://127.0.0.1:8050/\"\n",
       "            frameborder=\"0\"\n",
       "            allowfullscreen\n",
       "            \n",
       "        ></iframe>\n",
       "        "
      ],
      "text/plain": [
       "<IPython.lib.display.IFrame at 0x11ef7a840>"
      ]
     },
     "metadata": {},
     "output_type": "display_data"
    }
   ],
   "source": [
    "# Import packages\n",
    "from dash import Dash, html, dash_table\n",
    "\n",
    "# Incorporate data\n",
    "df = pd.read_csv('aufgabe1_clean.csv')\n",
    "\n",
    "# Initialize the app\n",
    "app = Dash()\n",
    "\n",
    "# App layout\n",
    "app.layout = [\n",
    "    html.Div(children='My First App with Data'),\n",
    "    dash_table.DataTable(data=df.to_dict('records'), page_size=20)\n",
    "]\n",
    "\n",
    "# Run the app\n",
    "if __name__ == '__main__':\n",
    "    app.run(debug=True)\n"
   ]
  },
  {
   "cell_type": "markdown",
   "id": "28e56787",
   "metadata": {},
   "source": [
    "## Aufgabe App"
   ]
  },
  {
   "cell_type": "code",
   "execution_count": null,
   "id": "77e91c7b",
   "metadata": {},
   "outputs": [],
   "source": [
    "from dash import Dash, html, dcc, Input, Output\n",
    "\n",
    "# read data from the csv file\n",
    "df = pd.read_csv(\"aufgabe1_clean.csv\")\n",
    "\n",
    "# Layout, HTML Components\n",
    "app.layout = html.Div([\n",
    "    # firt section: verteilung der items\n",
    "    html.Div([\n",
    "\n",
    "    ]),\n",
    "    # second section: correlation between Wage and Age, Overall and Age\n",
    "    # third section: Vergleich zwischen Players\n",
    "])"
   ]
  },
  {
   "cell_type": "code",
   "execution_count": null,
   "id": "a7bef6bd",
   "metadata": {},
   "outputs": [],
   "source": []
  }
 ],
 "metadata": {
  "kernelspec": {
   "display_name": "ivda",
   "language": "python",
   "name": "python3"
  },
  "language_info": {
   "codemirror_mode": {
    "name": "ipython",
    "version": 3
   },
   "file_extension": ".py",
   "mimetype": "text/x-python",
   "name": "python",
   "nbconvert_exporter": "python",
   "pygments_lexer": "ipython3",
   "version": "3.12.7"
  }
 },
 "nbformat": 4,
 "nbformat_minor": 5
}
