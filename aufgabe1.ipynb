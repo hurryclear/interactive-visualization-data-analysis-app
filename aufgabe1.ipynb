{
 "cells": [
  {
   "cell_type": "markdown",
   "id": "355173b7-34a0-4467-a2df-823a54fcfe37",
   "metadata": {},
   "source": [
    "Visualization Tool: dash.plotly"
   ]
  },
  {
   "cell_type": "markdown",
   "id": "8152368e",
   "metadata": {},
   "source": [
    "# To-Do\n",
    "- [ ] Pagination 1a --> Tina\n",
    "- [ ] Zweck der Daten --> Tina\n",
    "- [ ] Vergleich zwischen Players 1d --> Huo\n",
    "- [ ] Gegenüberstellung zwischen Age und Wage/Overall 1b --> Huo\n",
    "- [ ] zusätzliche Filtern"
   ]
  },
  {
   "cell_type": "markdown",
   "id": "9dcd19a1-9169-40f3-ab74-d95c07f1955c",
   "metadata": {},
   "source": [
    "# Aufgabe 1a)\n",
    "Lesen Sie den Datensatz „Aufgabe-1.csv“ ein und untersuchen Sie den Zweck der Daten sowie die\n",
    "Datenqualität. Identifizieren Sie mögliche Probleme in den Daten und beheben Sie die Fehler, falls\n",
    "möglich. Dokumentieren Sie Ihr Vorgehen.  "
   ]
  },
  {
   "cell_type": "code",
   "execution_count": null,
   "id": "4aa417a2-33e9-4d41-a9a5-abac266ce581",
   "metadata": {},
   "outputs": [],
   "source": [
    "import pandas as pd"
   ]
  },
  {
   "cell_type": "code",
   "execution_count": null,
   "id": "03fd5ab0-1437-4826-a281-9a278f551f01",
   "metadata": {},
   "outputs": [],
   "source": [
    "#df = pd.read_csv('aufgabe1_ori.csv')"
   ]
  },
  {
   "cell_type": "markdown",
   "id": "ad3f66bb-fe92-47f4-b721-6643f50732c9",
   "metadata": {},
   "source": [
    "## Clean data"
   ]
  },
  {
   "cell_type": "markdown",
   "id": "be713222-39ed-4611-a7d0-a179b119aba2",
   "metadata": {},
   "source": [
    "![find error](1.png) "
   ]
  },
  {
   "cell_type": "markdown",
   "id": "8da264f2-d1f4-4e68-b910-9929677ab762",
   "metadata": {},
   "source": [
    "### Position Played\n",
    "If you just read the data file with `df = pd.read_csv('aufgabe1.csv')` you will get error **\"ParserError\"**, since the data is somehow not \"clean\", which we need to deal with.\n",
    "Concrete error: **ParserError: Error tokenizing data. C error: Expected 89 fields in line 3, saw 90**  \n",
    "There should be 89 columns but some rows have 90, that's because in third 6th column \"Positions Played\" there are some players played more than one positions and in the data set use comma for &, e.g. 'CF,ST', but when it was read, this will cause confusion, because comma is to separate column.\n",
    "What we can do is that replace , which is within '' with ;. We can use regex to identify this case, e.g. 'A,B', so we want 'A;B'"
   ]
  },
  {
   "cell_type": "code",
   "execution_count": null,
   "id": "b05807eb-b145-4440-8d47-51e548f241f6",
   "metadata": {},
   "outputs": [],
   "source": [
    "import re # regex\n",
    "import pandas as pd\n",
    "\n",
    "# Specify input and output file paths\n",
    "input_file = 'aufgabe1_ori.csv'\n",
    "output_file = 'aufgabe1_clean.csv'\n",
    "\n",
    "# Read the CSV file line by line and replace commas within single quotes\n",
    "lines = []\n",
    "with open(input_file, 'r') as file:\n",
    "    for line in file:\n",
    "        # Use regex to find commas within single quotes and replace them with a semicolon\n",
    "        modified_line = re.sub(r\"'(.*?)'\", lambda x: x.group(0).replace(',', ';'), line)\n",
    "        lines.append(modified_line)\n",
    "\n",
    "# Write the modified lines to a new CSV file\n",
    "with open(output_file, 'w') as file:\n",
    "    file.writelines(lines)"
   ]
  },
  {
   "cell_type": "markdown",
   "id": "b5c2b7a0-a755-499f-9b9e-f87697a9be89",
   "metadata": {},
   "source": [
    "### 1100000,00€ -> 1100000\n",
    "Again Error --> ParserError: Error tokenizing data. C error: Expected 89 fields in line 12922, saw 90\n",
    "![find error](2.png)\n",
    "The reason is that the expression in german way: 1100000,00€. The comma here will also be translated to the separation of column. Because this is the sole case, so I'd like to change this manuelly in .csv file, e.g. 1100000,00€ --> 1100000. **Change it in aufgabe1_ori.csv!!!**"
   ]
  },
  {
   "cell_type": "markdown",
   "id": "ca2ee748",
   "metadata": {},
   "source": [
    "### Duplicates, unnecessary ''"
   ]
  },
  {
   "cell_type": "code",
   "execution_count": null,
   "id": "355acf45-0fb7-4940-80cf-4ab4c59a58f0",
   "metadata": {},
   "outputs": [],
   "source": [
    "# Now read the cleaned data with pandas and save it in df\n",
    "df = pd.read_csv(output_file)\n",
    "# deal with duplicates and save it in df\n",
    "df = df.drop_duplicates()\n",
    "# '' is not necessary in for the columns name\n",
    "df.columns = df.columns.str.strip(\"'\")\n",
    "# '' is also not necessary \n",
    "df = df.map(lambda x: x.strip(\"'\") if isinstance(x, str) else x)\n",
    "df"
   ]
  },
  {
   "cell_type": "markdown",
   "id": "c6898940",
   "metadata": {},
   "source": [
    "Using '' is to indicate this element is string, but here we use object as data type, should we change to string? maybe not, just leave it as object for now.  "
   ]
  },
  {
   "cell_type": "markdown",
   "id": "985da688-ac92-462e-b869-74ce78f1f5cc",
   "metadata": {},
   "source": [
    "### Data Type\n",
    "DtypeWarning: Columns (4) have mixed types\n",
    "\n",
    "when we use pd.read_csv to read the csv file we got DtypeWarning, it tells us that column 4 has mixed data types, but if we check the data types using df.dtypes, I didn't see mixed types. I'm not sure about this, just leave it for now, it seems to me not a problem to finish the task."
   ]
  },
  {
   "cell_type": "code",
   "execution_count": null,
   "id": "19236cd3-56b2-4a0a-8c78-a68e73a636fe",
   "metadata": {},
   "outputs": [],
   "source": [
    "# Check data types in column 4\n",
    "unique_types = df['Value(in Euro)'].map(type).value_counts()\n",
    "print(unique_types)"
   ]
  },
  {
   "cell_type": "code",
   "execution_count": null,
   "id": "e6ba2cd6-e22a-43ed-be26-b192fb19ae81",
   "metadata": {},
   "outputs": [],
   "source": [
    "# get data types of all columns\n",
    "print(df.dtypes)\n",
    "print(df.info())"
   ]
  },
  {
   "cell_type": "code",
   "execution_count": null,
   "id": "d1c238c8",
   "metadata": {},
   "outputs": [],
   "source": [
    "# Column: Value(in Euro)\n",
    "# Convert 'Value(in Euro)' to int64 and replace NaN values with 0\n",
    "df['Value(in Euro)'] = pd.to_numeric(df['Value(in Euro)'], errors='coerce')\n",
    "df['Value(in Euro)'] = df['Value(in Euro)'].fillna(0).astype('int64')\n",
    "# Column: Best Position\n",
    "# 1. Convert 'Best Position' to string to reveal any hidden values\n",
    "df['Best Position'] = df['Best Position'].astype(str)\n",
    "# 2. Replace any \"nan\" strings (which represent the actual NaN values) with a placeholder, if desired\n",
    "df['Best Position'] = df['Best Position'].replace(\"nan\", \"Unknown\")  # or use a suitable placeholder\n",
    "# Column: Positioning\n",
    "df['Positioning'] = df['Positioning'].fillna(0).astype('int64')\n",
    "# Column: Goalkeeper Handling\n",
    "df['Goalkeeper Handling'] = df['Goalkeeper Handling'].fillna(0).astype('int64')\n"
   ]
  },
  {
   "cell_type": "code",
   "execution_count": null,
   "id": "8ae6c063",
   "metadata": {},
   "outputs": [],
   "source": [
    "print(df.info())"
   ]
  },
  {
   "cell_type": "markdown",
   "id": "75ce0df5-e3dc-450d-a78c-7536dee4b6ab",
   "metadata": {},
   "source": [
    "## Zweck der Daten"
   ]
  },
  {
   "cell_type": "code",
   "execution_count": null,
   "id": "65561a17-7215-416e-8583-a0d390ba8e30",
   "metadata": {},
   "outputs": [],
   "source": [
    "print(df.columns)"
   ]
  },
  {
   "cell_type": "code",
   "execution_count": null,
   "id": "9751b568-6693-4f78-83b8-8d8c29246a8e",
   "metadata": {},
   "outputs": [],
   "source": [
    "print(df.head())"
   ]
  },
  {
   "cell_type": "code",
   "execution_count": null,
   "id": "4a807099-67e1-46e7-a554-17464b575538",
   "metadata": {},
   "outputs": [],
   "source": [
    "print(df.tail())"
   ]
  },
  {
   "cell_type": "code",
   "execution_count": null,
   "id": "fc7768ab-50e4-4f90-ac24-9922930ca797",
   "metadata": {},
   "outputs": [],
   "source": [
    "print(df.describe())"
   ]
  },
  {
   "cell_type": "markdown",
   "id": "a5d3b020-9ff9-4dbe-97bd-43696fe29279",
   "metadata": {},
   "source": [
    "## Analysis of the data purpose\n",
    "This data set shows: (to be complete...)\n",
    "- Information over soccer player, including basic personal information, analysis of skills, values etc.\n",
    "- "
   ]
  },
  {
   "cell_type": "markdown",
   "id": "1aa7bbe3-80b4-4445-a592-ab9eabe5029f",
   "metadata": {},
   "source": [
    "# Aufgabe 1b)-1d)\n",
    "b) Visualisieren Sie die Daten aus a) mittels einer interaktiven Applikation in Python, indem Sie die Verteilungen darstellen:  \n",
    "- Verteilung der Items\n",
    "- Gegenüberstellung der Attribute Age und Wage (in Euro)\n",
    "- Gegenüberstellung der Attribute Age und Overall  \n",
    "\n",
    "\n",
    "c) Bauen Sie bei allen Darstellungen Interaktionsmöglichkeiten zum Filtern der Daten ein. <span style='color:#CC3333; background:; font-size:;'>Sollten die Daten Ausreißer haben, passen Sie Ihre Visualisierung dahingehend an.</span> Bauen Sie zudem Filtermöglichkeiten zum Filtern nach den Attribute Nationality und Club ein.  \n",
    "d) Erstellen Sie eine Darstellung zum Vergleich von Datenpunkten, bsp. Zeile 5 mit Zeile 35 des Datensatz. Die zuvergleichenden Datenpunkte sollen interaktiv wählbar sein."
   ]
  },
  {
   "cell_type": "markdown",
   "id": "82998d33",
   "metadata": {},
   "source": [
    "## Verteilung der Items Analysis\n",
    "\n",
    "Verteilung hier ist mit Häufigkeitsverteilung gemeint... okay..."
   ]
  },
  {
   "cell_type": "markdown",
   "id": "28e56787",
   "metadata": {},
   "source": [
    "## Aufgabe App"
   ]
  },
  {
   "cell_type": "code",
   "execution_count": null,
   "id": "77e91c7b",
   "metadata": {},
   "outputs": [],
   "source": [
    "# pip install dash-ag-grid\n",
    "import pandas as pd\n",
    "from dash import Dash, html, dcc, Input, Output, callback\n",
    "import plotly.express as px\n",
    "import dash_bootstrap_components as dbc\n",
    "from dash_bootstrap_templates import load_figure_template\n",
    "import dash_ag_grid as dag\n",
    "\n",
    "\n",
    "# read data from the csv file\n",
    "# df = pd.read_csv(\"aufgabe1_clean.csv\")\n",
    "\n",
    "# Initialize dash app with bootstrap theme\n",
    "load_figure_template('morph')\n",
    "app = Dash(__name__, external_stylesheets=[dbc.themes.MORPH])\n",
    "\n",
    "fig = px.histogram(df, x='Age', y='Overall', histfunc='avg')\n",
    "\n",
    "left_row_style = {'margin': '2px 0', 'textAlign' : 'right'}\n",
    "row_style = {'margin': '2px 0'}\n",
    "# sorted_nat = sorted(df['Nationality'].unique())\n",
    "\n",
    "# Layout, HTML Components\n",
    "app.layout = html.Div([\n",
    "    \n",
    "    # title\n",
    "    html.H1(f'IVDA Praktikum Aufgabe 1', className='text-center pb-3'),\n",
    "    \n",
    "    # Dashboard\n",
    "    # 1. Data in table\n",
    "    html.H3(f'Data in table', className='text-center pb-3'),\n",
    "    dag.AgGrid(\n",
    "        id=\"enable-pagination\",\n",
    "        rowData=df.to_dict(\"records\"),\n",
    "        columnDefs=[{\"field\": i} for i in df.columns],\n",
    "        defaultColDef={\"filter\": True},\n",
    "        dashGridOptions={\"pagination\": True, \"animateRows\": False},\n",
    "    ),\n",
    "\n",
    "    # 2. Verteilung der Items\n",
    "    html.H3(f'Verteilung der Items', className='text-center pb-3'),\n",
    "    # dropdown for choosing attribute\n",
    "    dcc.Dropdown(\n",
    "        # options=['Age', 'Height(in cm)', 'Weight(in kg)', 'Overall', 'Potential', 'Nationality'],\n",
    "        options=[{'label': col, 'value': col} for col in df.columns],\n",
    "        value='Age', placeholder='Select Attribute (X-Axis)', id='select_attribute',\n",
    "    ),\n",
    "    dcc.Graph(figure=fig, id='verteilung'),\n",
    "\n",
    "    # 3. Correlation between Overall and Age, Wage and Age\n",
    "    html.H3(f'Correlation', className='text-center pb-3'),\n",
    "    dcc.Dropdown(\n",
    "        options=['Overall', 'Wage(in Euro)', 'Potential', 'Value(in Euro)'], \n",
    "        value='Overall', placeholder='Select Y-Axis', id='y_options',\n",
    "    ),\n",
    "    dcc.Graph(figure=fig, id='correlation'),\n",
    "\n",
    "    # Filter Dropdown for nationality and club\n",
    "    # ideal: if I don't choose --> not filter by that dimension/ if I choose \"all\"(if I can figure it out) --> all nationality or club\n",
    "    html.Div([\n",
    "        dcc.Dropdown(\n",
    "            # options=[{'label': 'All', 'value':'All'}] + [{'label': nationality, 'value': nationality} for nationality in df['Nationality'].unique()], # sorted(df['Nationality'].unique())\n",
    "            id='nationality',\n",
    "            options=df['Nationality'].unique(),\n",
    "            value='Germany',\n",
    "            placeholder='Select Nationality',\n",
    "            style={'width':'300px'},\n",
    "        ),\n",
    "        dcc.Dropdown(\n",
    "            # options=[{'label': 'All', 'value':'All'}] + [{'label': club, 'value': club} for club in df['Club Name'].unique()],\n",
    "            id='club',\n",
    "            options=df['Club Name'].unique(),\n",
    "            value='RB Leipzig',\n",
    "            placeholder='Select Club',\n",
    "            style={'width':'300px'},\n",
    "        ),\n",
    "    ],style={'display': 'flex',\n",
    "            'justify-content': 'center',\n",
    "            'align-items': 'center',\n",
    "            'flex-direction': 'column',\n",
    "            'width': '100%'}),\n",
    "    \n",
    "    # 3. comparasion between players\n",
    "    html.Div([\n",
    "        html.H3(f'Comparasion between players', className='text-center pb-3'),\n",
    "        # choose two player and get image of two players\n",
    "        dbc.Row([\n",
    "            dbc.Col([],width=3, style={'textAlign':'center'}),\n",
    "            dbc.Col([\n",
    "                html.Div(\n",
    "                    html.Img(id='player1_image',src='', style={'height':'120px'}), \n",
    "                        style={'border': '', 'padding': '10px'}\n",
    "                ),\n",
    "                dcc.Dropdown(\n",
    "                    id='player1_dropdown', #this dropdown is every important in order to load image, basic info and all informations about this player\n",
    "                    options=df['Full Name'].unique(),\n",
    "                    value='Lionel Messi',\n",
    "                    placeholder=\"Select Player 1\"\n",
    "                ),\n",
    "            ], width=3, style={'textAlign':'center'}),\n",
    "            dbc.Col([\n",
    "                html.Div(\n",
    "                    html.Img(id='player2_image', src='', style={'height':'120px'}), \n",
    "                            style={'border': '', 'padding': '10px'}),\n",
    "                dcc.Dropdown(\n",
    "                    id='player2_dropdown',\n",
    "                    options=df['Full Name'].unique(),\n",
    "                    value='Karim Benzema',\n",
    "                    placeholder=\"Select Player 2\"\n",
    "                )\n",
    "            ], width=3, style={'textAlign':'center'})\n",
    "        ], justify=\"\", className=\"mb-4\"),\n",
    "        dbc.Row([\n",
    "            dbc.Col([\n",
    "                html.Div([\n",
    "                    html.P(f\"Age\", style=left_row_style),\n",
    "                    html.P(f\"Nationality\", style=left_row_style),\n",
    "                    html.P(f\"Height\", style=left_row_style),\n",
    "                    html.P(f\"Weight\", style=left_row_style),\n",
    "                    html.P(f\"Club\", style=left_row_style),\n",
    "                    html.P(f\"Best Position\", style=left_row_style),\n",
    "                    html.P(f\"Preferred Foot\", style=left_row_style),\n",
    "                ])\n",
    "            ], width=3, style={'textAlign':'center'}),\n",
    "            # basic information of player1\n",
    "            dbc.Col([\n",
    "                html.Div(\n",
    "                    id='player1_basic_information', \n",
    "                    style={'border': '', 'padding': '', 'width': '250px'})\n",
    "            ], width=3, style={'textAlign':'center'}),\n",
    "            # basic information of player2\n",
    "            dbc.Col([\n",
    "                html.Div(\n",
    "                    id='player2_basic_information', \n",
    "                    style={'border': '', 'padding': '', 'width': '250px'})\n",
    "            ], width=3, style={'textAlign':'center'}),\n",
    "        ]),\n",
    "\n",
    "    ]),\n",
    "\n",
    "    # Footer\n",
    "    html.Footer([\n",
    "        html.Div([\n",
    "            html.A('Author: Huo Jiang, Tina', href='https://github.com/hurryclear/interactive-visualization-data-analysis-app'),\n",
    "            html.Span(' | '),\n",
    "            html.A('Copyright', href='https://www.uni-leipzig.de')\n",
    "        ], className='bg-light text-dark text-center py-3 fs-5')\n",
    "    ])\n",
    "])\n",
    "\n",
    "# Section2: Verteilung\n",
    "@callback(\n",
    "    Output(component_id='verteilung', component_property='figure'),\n",
    "    Input('select_attribute', 'value')\n",
    ")\n",
    "def update_verteilung(select_attribute):\n",
    "\n",
    "    if pd.api.types.is_numeric_dtype(df[select_attribute]):\n",
    "        # Ensure the 'Age' column is of an appropriate data type\n",
    "        df[select_attribute] = pd.to_numeric(df[select_attribute], errors='coerce')\n",
    "        # Create a histogram to show the absolute frequency of players by age\n",
    "        fig = px.histogram(\n",
    "            df, x=select_attribute, \n",
    "            nbins=len(df[select_attribute].unique()), \n",
    "            title=\"Absolute Frequency of Players by Age\"\n",
    "        )\n",
    "    else:\n",
    "        # For categorical attributes, use value counts\n",
    "        category_counts = df[select_attribute].value_counts().reset_index()\n",
    "        category_counts.columns = [select_attribute, 'Count']\n",
    "        \n",
    "        # Create a bar chart for categorical attributes\n",
    "        fig = px.bar(category_counts, x=select_attribute, y='Count', title=f\"Absolute Frequency of Players by {select_attribute}\")\n",
    "\n",
    "    # Update the layout to label the axes\n",
    "    fig.update_layout(\n",
    "        xaxis_title=select_attribute,\n",
    "        yaxis_title=\"Absolute Frequency of Players\",\n",
    "        bargap=0.2\n",
    "    )\n",
    "    return fig\n",
    "\n",
    "\n",
    "# Section3: Correlation\n",
    "# function filter_data: filter data by certain attributes and return filtered data\n",
    "def filter_data(df, nationality, club):\n",
    "    df_filtered = df.copy()\n",
    "    if nationality and nationality != '':\n",
    "        df_filtered = df_filtered[df_filtered['Nationality'] == nationality]\n",
    "\n",
    "    if club and club != '':\n",
    "        df_filtered = df_filtered[df_filtered['Club Name'] == club]\n",
    "    return df_filtered\n",
    "# add controls to build the interaction\n",
    "@callback(\n",
    "    Output(component_id='correlation', component_property='figure'),\n",
    "    Input(component_id='y_options', component_property='value'), # input for the callback functions, this corresponds to col_chosen\n",
    "    Input(component_id='nationality', component_property='value'),\n",
    "    Input(component_id='club', component_property='value'),\n",
    ")\n",
    "def update_graph(col_chosen, nationality, club): # club\n",
    "    \n",
    "    # by nationality or club\n",
    "    df_filtered = filter_data(df, nationality, club)\n",
    "\n",
    "    # If neither is selected or both are set to \"All\", df_filtered will remain unfiltered (all data)\n",
    "\n",
    "    # px.histogram(df, x='Age', y=col_chosen, histfunc='avg')\n",
    "    # not like histogram in line chart there is no embedded avg function, so we have to group the data by the age first and caculate the avg of overall and wage\n",
    "    df_avg_by_age = df_filtered.groupby('Age', as_index=False)[col_chosen].mean()\n",
    "\n",
    "    fig = px.line(df_avg_by_age, x = 'Age', y = col_chosen, title=f'Average of {col_chosen} by Age', markers=True)\n",
    "    return fig # what you return will be assigned to the callback output component_property, in this case fig1 will be return to figure\n",
    "\n",
    "\n",
    "# Section3: comparasion between players\n",
    "# update information of player1\n",
    "@callback(\n",
    "    Output(component_id='player1_image', component_property='src'),\n",
    "    # Output(component_id='', component_property=''),\n",
    "    # Output(component_id='', component_property=''),\n",
    "    Input(component_id='player1_dropdown', component_property='value'),\n",
    ")\n",
    "def update_image_player1(player1_name):\n",
    "    if player1_name:\n",
    "        image_link = df.loc[df['Full Name']==player1_name, 'Image Link'] #use loc to retrieve the Image Link column\n",
    "        return image_link.iloc[0] if not image_link.empty else ''\n",
    "    return ''\n",
    "\n",
    "# update image of player2\n",
    "@callback(\n",
    "    Output(component_id='player2_image', component_property='src'),\n",
    "    Input(component_id='player2_dropdown', component_property='value')\n",
    ")\n",
    "def update_image_player2(player2_name):\n",
    "    if player2_name:\n",
    "        image_link = df.loc[df['Full Name']==player2_name, 'Image Link']\n",
    "        return image_link.iloc[0] if not image_link.empty else ''\n",
    "    return ''\n",
    "\n",
    "# update basic information of player1\n",
    "@callback(\n",
    "    Output('player1_basic_information', 'children'),\n",
    "    Output('player2_basic_information', 'children'),\n",
    "    Input('player1_dropdown','value'),\n",
    "    Input('player2_dropdown','value')\n",
    ")\n",
    "def update_basic_player1(player1_name, player2_name):\n",
    "    attributes_display1 = []\n",
    "    attributes_display2 = []\n",
    "    if player1_name:\n",
    "        player1_info = df.loc[df['Full Name'] == player1_name].iloc[0]\n",
    "        attributes_display1.append(html.P(f\"{player1_info['Age']}\", style=row_style))\n",
    "        attributes_display1.append(html.P(f\"{player1_info['Nationality']}\", style=row_style))\n",
    "        attributes_display1.append(html.P(f\"{player1_info['Height(in cm)']}\", style=row_style))\n",
    "        attributes_display1.append(html.P(f\"{player1_info['Weight(in kg)']}\", style=row_style))\n",
    "        attributes_display1.append(html.P(f\"{player1_info['Club Name']}\", style=row_style))\n",
    "        attributes_display1.append(html.P(f\"{player1_info['Best Position']}\", style=row_style))\n",
    "        attributes_display1.append(html.P(f\"{player1_info['Preferred Foot']}\", style=row_style))\n",
    "    if player2_name:\n",
    "        player2_info = df.loc[df['Full Name'] == player2_name].iloc[0]\n",
    "        attributes_display2.append(html.P(f\"{player2_info['Age']}\", style=row_style))\n",
    "        attributes_display2.append(html.P(f\"{player2_info['Nationality']}\", style=row_style))\n",
    "        attributes_display2.append(html.P(f\"{player2_info['Height(in cm)']}\", style=row_style))\n",
    "        attributes_display2.append(html.P(f\"{player2_info['Weight(in kg)']}\", style=row_style))\n",
    "        attributes_display2.append(html.P(f\"{player2_info['Club Name']}\", style=row_style))\n",
    "        attributes_display2.append(html.P(f\"{player2_info['Best Position']}\", style=row_style))\n",
    "        attributes_display2.append(html.P(f\"{player2_info['Preferred Foot']}\", style=row_style))\n",
    "    return attributes_display1, attributes_display2 \n",
    "\n",
    "if __name__ == '__main__':\n",
    "    app.run_server(debug=True)"
   ]
  },
  {
   "cell_type": "code",
   "execution_count": null,
   "id": "10ed7998",
   "metadata": {},
   "outputs": [],
   "source": []
  },
  {
   "cell_type": "code",
   "execution_count": null,
   "id": "8a76a8f2",
   "metadata": {},
   "outputs": [],
   "source": []
  }
 ],
 "metadata": {
  "kernelspec": {
   "display_name": "ivda",
   "language": "python",
   "name": "python3"
  },
  "language_info": {
   "codemirror_mode": {
    "name": "ipython",
    "version": 3
   },
   "file_extension": ".py",
   "mimetype": "text/x-python",
   "name": "python",
   "nbconvert_exporter": "python",
   "pygments_lexer": "ipython3",
   "version": "3.12.2"
  }
 },
 "nbformat": 4,
 "nbformat_minor": 5
}
